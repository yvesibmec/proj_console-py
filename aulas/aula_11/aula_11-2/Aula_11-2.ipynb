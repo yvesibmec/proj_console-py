{
  "cells": [
    {
      "cell_type": "markdown",
      "metadata": {},
      "source": [
        "### Introdução a função map"
      ]
    },
    {
      "cell_type": "code",
      "execution_count": 2,
      "metadata": {
        "trusted": true
      },
      "outputs": [],
      "source": [
        "kmh = [42,50,56,60,67,72,75,80,89,95,100,120]"
      ]
    },
    {
      "cell_type": "code",
      "execution_count": 5,
      "metadata": {
        "trusted": true
      },
      "outputs": [
        {
          "name": "stdout",
          "output_type": "stream",
          "text": [
            "26.09\n",
            "31.06\n",
            "34.78\n",
            "37.27\n",
            "41.61\n",
            "44.72\n",
            "46.58\n",
            "49.69\n",
            "55.28\n",
            "59.01\n",
            "62.11\n",
            "74.53\n"
          ]
        }
      ],
      "source": [
        "mph = []\n",
        "for i in kmh:\n",
        "    mph.append(round(i/1.61, 2))\n",
        "    print(mph[len(mph)-1])"
      ]
    },
    {
      "cell_type": "code",
      "execution_count": 6,
      "metadata": {
        "trusted": true
      },
      "outputs": [
        {
          "name": "stdout",
          "output_type": "stream",
          "text": [
            "26.09\n",
            "31.06\n",
            "34.78\n",
            "37.27\n",
            "41.61\n",
            "44.72\n",
            "46.58\n",
            "49.69\n",
            "55.28\n",
            "59.01\n",
            "62.11\n",
            "74.53\n"
          ]
        }
      ],
      "source": [
        "lista = lambda x: round(x/1.61,2)\n",
        "mph2 = list(map(lista, kmh))\n",
        "\n",
        "for i in mph2:\n",
        "    print(i)"
      ]
    },
    {
      "cell_type": "code",
      "execution_count": null,
      "metadata": {},
      "outputs": [],
      "source": []
    }
  ],
  "metadata": {
    "kernelspec": {
      "display_name": "Python 3.11.1 64-bit",
      "language": "python",
      "name": "python3"
    },
    "language_info": {
      "codemirror_mode": {
        "name": "python",
        "version": 3
      },
      "file_extension": ".py",
      "mimetype": "text/x-python",
      "name": "python",
      "nbconvert_exporter": "python",
      "pygments_lexer": "ipython3",
      "version": "3.11.1"
    },
    "vscode": {
      "interpreter": {
        "hash": "e8b1b2b3fb10fbf28300a1131f89489bd52da4452a5f67929faf7c4a3d6c0914"
      }
    }
  },
  "nbformat": 4,
  "nbformat_minor": 4
}
