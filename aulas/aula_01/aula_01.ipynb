{
  "metadata": {
    "kernelspec": {
      "name": "python",
      "display_name": "Python (Pyodide)",
      "language": "python"
    },
    "language_info": {
      "codemirror_mode": {
        "name": "python",
        "version": 3
      },
      "file_extension": ".py",
      "mimetype": "text/x-python",
      "name": "python",
      "nbconvert_exporter": "python",
      "pygments_lexer": "ipython3",
      "version": "3.8"
    }
  },
  "nbformat_minor": 5,
  "nbformat": 4,
  "cells": [
    {
      "cell_type": "markdown",
      "source": "### tipos de variaveis em python:",
      "metadata": {},
      "id": "49524398-6492-4bec-ab00-bf15688bd9bb"
    },
    {
      "cell_type": "code",
      "source": "nomes = [\"Gustavo\",\"Yves\"]\nidades = [28,21]\nativos = [True,False]\n\nprint(\"\\n{:<8}{:<7}{:<0}\".format(\"nome\",\"idade\",\"ativo\"))\nprint(\"{:<8}{:<7}{:<0}\".format(nomes[0],idades[0],ativos[0]))\nprint(\"{:<8}{:<7}{:<0}\".format(nomes[1],idades[1],ativos[1]))",
      "metadata": {
        "trusted": true
      },
      "execution_count": 4,
      "outputs": [
        {
          "name": "stdout",
          "text": "\nnome    idade  ativo\nGustavo 28     1\nYves    21     0\n",
          "output_type": "stream"
        }
      ],
      "id": "96872580-42ee-499d-a796-cf91c7b7114e"
    },
    {
      "cell_type": "markdown",
      "source": "### tipos de saida em python:",
      "metadata": {},
      "id": "23ccc075-baae-463b-9082-a76fa4a6db51"
    },
    {
      "cell_type": "code",
      "source": "nome = \"Yves\"\nidade = 22\nativo = True\n\nprint(\"ola meu nome e\",nome,\".Tenho \",idade,\"anos de idade.\")\nprint(\"\\n{:<6}{:<7}{:<0}\".format(\"nome\",\"idade\",\"ativo\"))\nprint(\"{:<6}{:<7}{:<0}\".format(nome,idade,ativo))",
      "metadata": {
        "trusted": true
      },
      "execution_count": 5,
      "outputs": [
        {
          "name": "stdout",
          "text": "ola meu nome e Yves .Tenho  22 anos de idade.\n\nnome  idade  ativo\nYves  22     1\n",
          "output_type": "stream"
        }
      ],
      "id": "7853bdf3-4b77-4214-9d60-3bd2968266c6"
    },
    {
      "cell_type": "markdown",
      "source": "### tipos de listas e tuplas:",
      "metadata": {},
      "id": "365fbaea-05bf-4c55-a162-63f2f7af55d9"
    },
    {
      "cell_type": "code",
      "source": "nomes = [\"Gustavo\",\"Yves\"]\nidades = [28,21]\nativos = [True,False]\n\nprint(\"\\n{:<9}{:<7}{:<0}\".format(\"nome\",\"idade\",\"ativo\"))\nprint(\"{:<9}{:<7}{:<0}\".format(nomes[0],idades[0],ativos[0]))\nprint(\"{:<9}{:<7}{:<0}\".format(nomes[1],idades[1],ativos[1]))",
      "metadata": {
        "trusted": true
      },
      "execution_count": 15,
      "outputs": [
        {
          "name": "stdout",
          "text": "\nnome     idade  ativo\nGustavo  28     1\nYves     21     0\n",
          "output_type": "stream"
        }
      ],
      "id": "39700269-c686-4876-b405-9b40512fdd02"
    },
    {
      "cell_type": "code",
      "source": "pessoa1 = (\"Gustavo\",28,True)\npessoa2 = (\"Yves\",21,False)\n\nprint(\"\\n{:<9}{:<7}{:<0}\".format(\"nome\",\"idade\",\"ativo\"))\nprint(\"{:<9}{:<7}{:<0}\".format(pessoa1[0],pessoa1[1],pessoa1[2]))\nprint(\"{:<9}{:<7}{:<0}\".format(pessoa2[0],pessoa2[1],pessoa2[2]))",
      "metadata": {
        "trusted": true
      },
      "execution_count": 16,
      "outputs": [
        {
          "name": "stdout",
          "text": "\nnome     idade  ativo\nGustavo  28     1\nYves     21     0\n",
          "output_type": "stream"
        }
      ],
      "id": "c4b81a8c-04e5-4131-8e0a-a9554bb4c8e7"
    },
    {
      "cell_type": "code",
      "source": "pessoa = [\n    (\"Gustavo\",28,True),\n    (\"Yves\",21,False)\n]\n\nprint(\"\\n{:<9}{:<7}{:<0}\".format(\"nome\",\"idade\",\"ativo\"))\nprint(\"{:<9}{:<7}{:<0}\".format(pessoa[0][0],pessoa[0][1],pessoa[0][2]))\nprint(\"{:<9}{:<7}{:<0}\".format(pessoa[1][0],pessoa[1][1],pessoa[1][2]))\n\n",
      "metadata": {
        "trusted": true
      },
      "execution_count": 17,
      "outputs": [
        {
          "name": "stdout",
          "text": "\nnome     idade  ativo\nGustavo  28     1\nYves     21     0\n",
          "output_type": "stream"
        }
      ],
      "id": "382a38be-7312-4891-adb6-405017ee3469"
    },
    {
      "cell_type": "markdown",
      "source": "### estrutura de decisão simples, aninhado e composto:",
      "metadata": {},
      "id": "ab282f64-bb1c-47ef-b791-8f8a758ce959"
    },
    {
      "cell_type": "code",
      "source": "nome = \"Gustavo\"\nidade = 28\n\nif (idade>=18):\n    print(nome,\"é maior de idade\")\nelse:\n    print(nome,\"é menor de idade\")",
      "metadata": {
        "trusted": true
      },
      "execution_count": 18,
      "outputs": [
        {
          "name": "stdout",
          "text": "Gustavo é maior de idade\n",
          "output_type": "stream"
        }
      ],
      "id": "23ec21fb-3280-43fb-b11e-8d96ba7dbed9"
    },
    {
      "cell_type": "code",
      "source": "nome = \"Gustavo\"\nidade = 28\nsalario = 2000\n\nif(idade>=18):\n    print(nome,\"é maior de idade\")\n    if (salario>1320):\n        print(\"Possui salário acima do salário mínimo!\")\n    else:\n        print(\"Possui salário abaixo ou igual ao salário mínimo!\")\nelse:\n    print(nome,\"é menor de idade\")\n    ",
      "metadata": {
        "trusted": true
      },
      "execution_count": 19,
      "outputs": [
        {
          "name": "stdout",
          "text": "Gustavo é maior de idade\nPossui salário acima do salário mínimo!\n",
          "output_type": "stream"
        }
      ],
      "id": "e22a6ecf-b760-46cd-933f-228978d124f1"
    },
    {
      "cell_type": "code",
      "source": "nome = \"Gustavo\"\nidade = 18\nrenda = 3500\nentrada = 10000\nserasa = False \nsituação = True\n\nif(\n    (idade>=18)\n    and(renda>=2500)\n    and(serasa==False)\n):\n    if(\n       (renda>=5000)\n       or(entrada>=10000)\n    ):\n        situação = True\n        print(\"aprovado\")\n    else:\n        print(\"analisar\")\nelse:\n    situação = False\n    print(\"reprovado\")",
      "metadata": {
        "trusted": true
      },
      "execution_count": 24,
      "outputs": [
        {
          "name": "stdout",
          "text": "aprovado\n",
          "output_type": "stream"
        }
      ],
      "id": "c32b3eb4-089f-4251-8bcd-052b2f30e429"
    },
    {
      "cell_type": "code",
      "source": "",
      "metadata": {},
      "execution_count": null,
      "outputs": [],
      "id": "bb5ec7bd-3499-4d59-9664-98224e7958a2"
    }
  ]
}