{
  "cells": [
    {
      "cell_type": "markdown",
      "id": "49524398-6492-4bec-ab00-bf15688bd9bb",
      "metadata": {},
      "source": [
        "### tipos de variaveis em python:"
      ]
    },
    {
      "cell_type": "code",
      "execution_count": 4,
      "id": "96872580-42ee-499d-a796-cf91c7b7114e",
      "metadata": {
        "trusted": true
      },
      "outputs": [
        {
          "name": "stdout",
          "output_type": "stream",
          "text": [
            "\n",
            "nome    idade  ativo\n",
            "Gustavo 28     1\n",
            "Yves    21     0\n"
          ]
        }
      ],
      "source": [
        "nomes = [\"Gustavo\",\"Yves\"]\n",
        "idades = [28,21]\n",
        "ativos = [True,False]\n",
        "\n",
        "print(\"\\n{:<8}{:<7}{:<0}\".format(\"nome\",\"idade\",\"ativo\"))\n",
        "print(\"{:<8}{:<7}{:<0}\".format(nomes[0],idades[0],ativos[0]))\n",
        "print(\"{:<8}{:<7}{:<0}\".format(nomes[1],idades[1],ativos[1]))"
      ]
    },
    {
      "cell_type": "markdown",
      "id": "23ccc075-baae-463b-9082-a76fa4a6db51",
      "metadata": {},
      "source": [
        "### tipos de saida em python:"
      ]
    },
    {
      "cell_type": "code",
      "execution_count": 5,
      "id": "7853bdf3-4b77-4214-9d60-3bd2968266c6",
      "metadata": {
        "trusted": true
      },
      "outputs": [
        {
          "name": "stdout",
          "output_type": "stream",
          "text": [
            "ola meu nome e Yves .Tenho  22 anos de idade.\n",
            "\n",
            "nome  idade  ativo\n",
            "Yves  22     1\n"
          ]
        }
      ],
      "source": [
        "nome = \"Yves\"\n",
        "idade = 22\n",
        "ativo = True\n",
        "\n",
        "print(\"ola meu nome e\",nome,\".Tenho \",idade,\"anos de idade.\")\n",
        "print(\"\\n{:<6}{:<7}{:<0}\".format(\"nome\",\"idade\",\"ativo\"))\n",
        "print(\"{:<6}{:<7}{:<0}\".format(nome,idade,ativo))"
      ]
    },
    {
      "cell_type": "markdown",
      "id": "365fbaea-05bf-4c55-a162-63f2f7af55d9",
      "metadata": {},
      "source": [
        "### tipos de listas e tuplas:"
      ]
    },
    {
      "cell_type": "code",
      "execution_count": 15,
      "id": "39700269-c686-4876-b405-9b40512fdd02",
      "metadata": {
        "trusted": true
      },
      "outputs": [
        {
          "name": "stdout",
          "output_type": "stream",
          "text": [
            "\n",
            "nome     idade  ativo\n",
            "Gustavo  28     1\n",
            "Yves     21     0\n"
          ]
        }
      ],
      "source": [
        "nomes = [\"Gustavo\",\"Yves\"]\n",
        "idades = [28,21]\n",
        "ativos = [True,False]\n",
        "\n",
        "print(\"\\n{:<9}{:<7}{:<0}\".format(\"nome\",\"idade\",\"ativo\"))\n",
        "print(\"{:<9}{:<7}{:<0}\".format(nomes[0],idades[0],ativos[0]))\n",
        "print(\"{:<9}{:<7}{:<0}\".format(nomes[1],idades[1],ativos[1]))"
      ]
    },
    {
      "cell_type": "code",
      "execution_count": 16,
      "id": "c4b81a8c-04e5-4131-8e0a-a9554bb4c8e7",
      "metadata": {
        "trusted": true
      },
      "outputs": [
        {
          "name": "stdout",
          "output_type": "stream",
          "text": [
            "\n",
            "nome     idade  ativo\n",
            "Gustavo  28     1\n",
            "Yves     21     0\n"
          ]
        }
      ],
      "source": [
        "pessoa1 = (\"Gustavo\",28,True)\n",
        "pessoa2 = (\"Yves\",21,False)\n",
        "\n",
        "print(\"\\n{:<9}{:<7}{:<0}\".format(\"nome\",\"idade\",\"ativo\"))\n",
        "print(\"{:<9}{:<7}{:<0}\".format(pessoa1[0],pessoa1[1],pessoa1[2]))\n",
        "print(\"{:<9}{:<7}{:<0}\".format(pessoa2[0],pessoa2[1],pessoa2[2]))"
      ]
    },
    {
      "cell_type": "code",
      "execution_count": 17,
      "id": "382a38be-7312-4891-adb6-405017ee3469",
      "metadata": {
        "trusted": true
      },
      "outputs": [
        {
          "name": "stdout",
          "output_type": "stream",
          "text": [
            "\n",
            "nome     idade  ativo\n",
            "Gustavo  28     1\n",
            "Yves     21     0\n"
          ]
        }
      ],
      "source": [
        "pessoa = [\n",
        "    (\"Gustavo\",28,True),\n",
        "    (\"Yves\",21,False)\n",
        "]\n",
        "\n",
        "print(\"\\n{:<9}{:<7}{:<0}\".format(\"nome\",\"idade\",\"ativo\"))\n",
        "print(\"{:<9}{:<7}{:<0}\".format(pessoa[0][0],pessoa[0][1],pessoa[0][2]))\n",
        "print(\"{:<9}{:<7}{:<0}\".format(pessoa[1][0],pessoa[1][1],pessoa[1][2]))\n",
        "\n"
      ]
    },
    {
      "cell_type": "markdown",
      "id": "ab282f64-bb1c-47ef-b791-8f8a758ce959",
      "metadata": {},
      "source": [
        "### estrutura de decisão simples, aninhado e composto:"
      ]
    },
    {
      "cell_type": "code",
      "execution_count": 18,
      "id": "23ec21fb-3280-43fb-b11e-8d96ba7dbed9",
      "metadata": {
        "trusted": true
      },
      "outputs": [
        {
          "name": "stdout",
          "output_type": "stream",
          "text": [
            "Gustavo é maior de idade\n"
          ]
        }
      ],
      "source": [
        "nome = \"Gustavo\"\n",
        "idade = 28\n",
        "\n",
        "if (idade>=18):\n",
        "    print(nome,\"é maior de idade\")\n",
        "else:\n",
        "    print(nome,\"é menor de idade\")"
      ]
    },
    {
      "cell_type": "code",
      "execution_count": 19,
      "id": "e22a6ecf-b760-46cd-933f-228978d124f1",
      "metadata": {
        "trusted": true
      },
      "outputs": [
        {
          "name": "stdout",
          "output_type": "stream",
          "text": [
            "Gustavo é maior de idade\n",
            "Possui salário acima do salário mínimo!\n"
          ]
        }
      ],
      "source": [
        "nome = \"Gustavo\"\n",
        "idade = 28\n",
        "salario = 2000\n",
        "\n",
        "if(idade>=18):\n",
        "    print(nome,\"é maior de idade\")\n",
        "    if (salario>1320):\n",
        "        print(\"Possui salário acima do salário mínimo!\")\n",
        "    else:\n",
        "        print(\"Possui salário abaixo ou igual ao salário mínimo!\")\n",
        "else:\n",
        "    print(nome,\"é menor de idade\")\n",
        "    "
      ]
    },
    {
      "cell_type": "code",
      "execution_count": 24,
      "id": "c32b3eb4-089f-4251-8bcd-052b2f30e429",
      "metadata": {
        "trusted": true
      },
      "outputs": [
        {
          "name": "stdout",
          "output_type": "stream",
          "text": [
            "aprovado\n"
          ]
        }
      ],
      "source": [
        "nome = \"Gustavo\"\n",
        "idade = 18\n",
        "renda = 3500\n",
        "entrada = 10000\n",
        "serasa = False \n",
        "situação = True\n",
        "\n",
        "if(\n",
        "    (idade>=18)\n",
        "    and(renda>=2500)\n",
        "    and(serasa==False)\n",
        "):\n",
        "    if(\n",
        "       (renda>=5000)\n",
        "       or(entrada>=10000)\n",
        "    ):\n",
        "        situação = True\n",
        "        print(\"aprovado\")\n",
        "    else:\n",
        "        print(\"analisar\")\n",
        "else:\n",
        "    situação = False\n",
        "    print(\"reprovado\")"
      ]
    },
    {
      "cell_type": "code",
      "execution_count": null,
      "id": "bb5ec7bd-3499-4d59-9664-98224e7958a2",
      "metadata": {},
      "outputs": [],
      "source": []
    }
  ],
  "metadata": {
    "kernelspec": {
      "display_name": "Python 3.11.1 64-bit",
      "language": "python",
      "name": "python3"
    },
    "language_info": {
      "codemirror_mode": {
        "name": "python",
        "version": 3
      },
      "file_extension": ".py",
      "mimetype": "text/x-python",
      "name": "python",
      "nbconvert_exporter": "python",
      "pygments_lexer": "ipython3",
      "version": "3.11.1"
    },
    "vscode": {
      "interpreter": {
        "hash": "e8b1b2b3fb10fbf28300a1131f89489bd52da4452a5f67929faf7c4a3d6c0914"
      }
    }
  },
  "nbformat": 4,
  "nbformat_minor": 5
}
